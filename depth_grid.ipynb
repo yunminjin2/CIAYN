{
 "cells": [
  {
   "cell_type": "code",
   "execution_count": 394,
   "metadata": {},
   "outputs": [],
   "source": [
    "import cv2\n",
    "import numpy as np"
   ]
  },
  {
   "cell_type": "code",
   "execution_count": 395,
   "metadata": {},
   "outputs": [],
   "source": [
    "img = cv2.imread('img/KO.jpg')"
   ]
  },
  {
   "cell_type": "code",
   "execution_count": 396,
   "metadata": {},
   "outputs": [],
   "source": [
    "# SB2\n",
    "# road_square = np.float32([\n",
    "#     [567, 97],\n",
    "#     [934,82],\n",
    "#     [1358,523],\n",
    "#     [647, 674],  \n",
    "# ])\n",
    "# h, w = 336, 980\n",
    "\n",
    "# GW\n",
    "# road_square = np.float32([\n",
    "#     [961, 172],\n",
    "#     [1261,178],\n",
    "#     [1220, 605],\n",
    "#     [330, 550],  \n",
    "# ])\n",
    "# h, w = 411, 2937\n",
    "\n",
    "# SJ\n",
    "# road_square = np.float32([\n",
    "#     [555, 408],\n",
    "#     [1064, 415],\n",
    "#     [1445, 687],\n",
    "#     [522, 784],  \n",
    "# ])\n",
    "# h, w = 522, 737\n",
    "\n",
    "# SG\n",
    "# road_square = np.float32([\n",
    "#     [681, 554],\n",
    "#     [973, 610],\n",
    "#     [958, 805],\n",
    "#     [583, 700],  \n",
    "# ])\n",
    "# h, w = 986, 542\n",
    "\n",
    "# NC\n",
    "# road_square = np.float32([\n",
    "#     [142, 194],\n",
    "#     [485, 142],\n",
    "#     [1145, 610],\n",
    "#     [190, 899],  \n",
    "# ])\n",
    "# h, w = 258, 868\n",
    "\n",
    "# KO\n",
    "road_square = np.float32([\n",
    "    [547, 162],\n",
    "    [755, 158],\n",
    "    [1094, 400],\n",
    "    [430, 430],  \n",
    "])\n",
    "h, w = 215, 1008"
   ]
  },
  {
   "cell_type": "code",
   "execution_count": 397,
   "metadata": {},
   "outputs": [],
   "source": [
    "\n",
    "grid_map = np.zeros((h , w))\n",
    "\n",
    "trg = np.float32([[3/8*h, 3/8*w], [5/8*h, 3/8*w], [5/8*h, 5/8*w], [3/8*h, 5/8*w]])"
   ]
  },
  {
   "cell_type": "code",
   "execution_count": 398,
   "metadata": {},
   "outputs": [],
   "source": [
    "M = cv2.getPerspectiveTransform(road_square, trg)\n",
    "Minv = cv2.getPerspectiveTransform(trg, road_square) # Inverse transformation\n",
    "black_board = np.zeros((h , w, 3), dtype=np.uint8)\n",
    "warped_img = cv2.warpPerspective(black_board, M, (h, w)) # Image warping"
   ]
  },
  {
   "cell_type": "code",
   "execution_count": 399,
   "metadata": {},
   "outputs": [],
   "source": [
    "for each_h in range(h//10):\n",
    "    cv2.line(warped_img, (each_h * 10, 0), (each_h * 10, w), (0, 0, 255), 1)\n",
    "\n",
    "for each_w in range(w//10):\n",
    "    cv2.line(warped_img, (0, each_w * 10), (h, each_w* 10), (0, 0, 255), 1)"
   ]
  },
  {
   "cell_type": "code",
   "execution_count": 400,
   "metadata": {},
   "outputs": [],
   "source": [
    "rewarped_img = cv2.warpPerspective(warped_img, Minv, (1600, 900)) # Image warping"
   ]
  },
  {
   "cell_type": "code",
   "execution_count": 401,
   "metadata": {},
   "outputs": [],
   "source": [
    "mask = np.sum(rewarped_img, axis=2)\n",
    "mask = (mask != 0)\n",
    "mask = np.expand_dims(mask, axis=2)\n",
    "mask = np.tile(mask, (1, 1, 3))\n",
    "mask = np.uint8(mask)"
   ]
  },
  {
   "cell_type": "code",
   "execution_count": 402,
   "metadata": {},
   "outputs": [],
   "source": [
    "white_board = np.zeros_like(img, dtype=np.float32)\n",
    "white_board += rewarped_img * mask * 0.5\n",
    "white_board += img * (1-mask) * 0.5\n",
    "white_board += img * 0.5\n"
   ]
  },
  {
   "cell_type": "code",
   "execution_count": 403,
   "metadata": {},
   "outputs": [
    {
     "data": {
      "text/plain": [
       "True"
      ]
     },
     "execution_count": 403,
     "metadata": {},
     "output_type": "execute_result"
    }
   ],
   "source": [
    "cv2.imwrite('img/KO_grid.jpg', np.uint8(white_board))"
   ]
  },
  {
   "cell_type": "code",
   "execution_count": 404,
   "metadata": {},
   "outputs": [],
   "source": [
    "cv2.destroyAllWindows()"
   ]
  },
  {
   "cell_type": "code",
   "execution_count": null,
   "metadata": {},
   "outputs": [],
   "source": []
  }
 ],
 "metadata": {
  "kernelspec": {
   "display_name": "CS546",
   "language": "python",
   "name": "python3"
  },
  "language_info": {
   "codemirror_mode": {
    "name": "ipython",
    "version": 3
   },
   "file_extension": ".py",
   "mimetype": "text/x-python",
   "name": "python",
   "nbconvert_exporter": "python",
   "pygments_lexer": "ipython3",
   "version": "3.8.16"
  },
  "orig_nbformat": 4
 },
 "nbformat": 4,
 "nbformat_minor": 2
}
